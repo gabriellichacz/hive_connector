{
 "cells": [
  {
   "cell_type": "code",
   "execution_count": 139,
   "metadata": {},
   "outputs": [],
   "source": [
    "# python 3.8.10 64-bit\n",
    "def hiveConnect(param_host, param_port, param_database = 'default', param_auth = 'NONE'):\n",
    "    \"\"\"\n",
    "    Connect to Hive database\n",
    "\n",
    "\tParameters:\n",
    "\t\tparam_host (string): Hive database host\n",
    "\t\tparam_port (string): Hive database port\n",
    "        param_database (string): Hive database name\n",
    "        param_auth (string): Hive database password (if it's set)\n",
    "\n",
    "\tReturns:\n",
    "\t\tConnection cursor\n",
    "    \"\"\"\n",
    "    from pyhive import hive\n",
    "    conn = hive.Connection(param_host, param_port, param_database, param_auth)\n",
    "    cur = conn.cursor()\n",
    "    return cur\n",
    "\n",
    "def hiveExecute(connection, sql):\n",
    "    \"\"\"\n",
    "    Execute SQL command in Hive database\n",
    "\n",
    "\tParameters:\n",
    "\t\tconnection (object): Hive database cursor\n",
    "\t\tsql (string): SQL statement\n",
    "\n",
    "\tReturns:\n",
    "\t\tdata (string)\n",
    "    \"\"\"\n",
    "    connection.execute(sql)\n",
    "    data = connection.fetchall()\n",
    "    return data\n",
    "\n",
    "def hiveCreateTable(connection, table_name, column_list = [], comment = '', row_format = 'DELIMITED', fields_terminator = '\\t', lines_terminator = '\\n', stored_as = 'TEXTFILE'):\n",
    "    \"\"\"\n",
    "    Create table in Hive (not tested)\n",
    "\n",
    "\tParameters:\n",
    "\t\tconnection (object): Hive database cursor\n",
    "\t\ttable_name (string)\n",
    "        comment (string)\n",
    "        row_format (string)\n",
    "        fields_terminator (string)\n",
    "        lines_terminator (string)\n",
    "        stored_as (string)\n",
    "\n",
    "\tReturns:\n",
    "\t\tMessage if sql was executed properly\n",
    "    \"\"\"\n",
    "    create_sql = 'CREATE TABLE IF NOT EXISTS ' + table_name\n",
    "    create_sql += '( eid int, name String)' # to do column list\n",
    "    create_sql += ' COMMENT \\'' + comment + '\\''\n",
    "    create_sql += ' ROW FORMAT ' + row_format\n",
    "    create_sql += ' FIELDS TERMINATED BY \\'' + fields_terminator + '\\''\n",
    "    create_sql += ' LINES TERMINATED BY \\'' + lines_terminator + '\\''\n",
    "    create_sql += ' STORED AS ' + stored_as\n",
    "\n",
    "    try:\n",
    "        hiveExecute(connection, create_sql)\n",
    "        message = 'Table ' + table_name + ' created'\n",
    "    except:\n",
    "        message = 'Couldn\\'t create ' + table_name + ' table'\n",
    "    return message\n",
    "\n",
    "def hiveCreateDruidExternalTable(connection, table_name, druid_table_name, storage_handler = 'org.apache.hadoop.hive.druid.DruidStorageHandler'):\n",
    "    \"\"\"\n",
    "    Create table in Hive (not tested)\n",
    "\n",
    "\tParameters:\n",
    "\t\tconnection (object): Hive database cursor\n",
    "\t\ttable_name (string)\n",
    "        storage_handler (string) Druid storage handler\n",
    "        druid_table_name (string)\n",
    "\n",
    "\tReturns:\n",
    "\t\tMessage if sql was executed properly\n",
    "    \"\"\"\n",
    "    create_sql = 'CREATE EXTERNAL TABLE IF NOT EXISTS ' + table_name\n",
    "    create_sql += ' STORED BY ' + storage_handler\n",
    "    create_sql += ' TBLPROPERTIES (\"druid.datasource\" = \\\"' + druid_table_name + '\\\")'\n",
    "    \n",
    "    try:\n",
    "        hiveExecute(connection, create_sql)\n",
    "        message = 'Table ' + table_name + ' created'\n",
    "    except:\n",
    "        message = 'Couldn\\'t create ' + table_name + ' table'\n",
    "    return message"
   ]
  },
  {
   "cell_type": "code",
   "execution_count": 133,
   "metadata": {},
   "outputs": [],
   "source": [
    "hive_host='192.168.1.112'\n",
    "hive_port='10000'\n",
    "hive = hiveConnect(hive_host, hive_port)"
   ]
  },
  {
   "cell_type": "code",
   "execution_count": 134,
   "metadata": {},
   "outputs": [
    {
     "data": {
      "text/plain": [
       "\"Couldn't create tabela table\""
      ]
     },
     "execution_count": 134,
     "metadata": {},
     "output_type": "execute_result"
    }
   ],
   "source": [
    "hiveCreateDruidExternalTable(hive, 'tabela', 'states')"
   ]
  },
  {
   "cell_type": "code",
   "execution_count": 138,
   "metadata": {},
   "outputs": [
    {
     "data": {
      "text/plain": [
       "\"Couldn't create nazwa_tabeli table\""
      ]
     },
     "execution_count": 138,
     "metadata": {},
     "output_type": "execute_result"
    }
   ],
   "source": [
    "hiveCreateTable(hive, 'nazwa_tabeli')"
   ]
  },
  {
   "cell_type": "code",
   "execution_count": 135,
   "metadata": {},
   "outputs": [
    {
     "data": {
      "text/plain": [
       "[('druid_states',)]"
      ]
     },
     "execution_count": 135,
     "metadata": {},
     "output_type": "execute_result"
    }
   ],
   "source": [
    "hiveExecute(hive, 'show tables')"
   ]
  }
 ],
 "metadata": {
  "kernelspec": {
   "display_name": "Python 3.8.10 64-bit",
   "language": "python",
   "name": "python3"
  },
  "language_info": {
   "codemirror_mode": {
    "name": "ipython",
    "version": 3
   },
   "file_extension": ".py",
   "mimetype": "text/x-python",
   "name": "python",
   "nbconvert_exporter": "python",
   "pygments_lexer": "ipython3",
   "version": "3.8.10"
  },
  "orig_nbformat": 4,
  "vscode": {
   "interpreter": {
    "hash": "055d741e0b7498292b4fefc067b9c1b71adcb50b1fff2093c5e0f7495b8a3aa1"
   }
  }
 },
 "nbformat": 4,
 "nbformat_minor": 2
}
